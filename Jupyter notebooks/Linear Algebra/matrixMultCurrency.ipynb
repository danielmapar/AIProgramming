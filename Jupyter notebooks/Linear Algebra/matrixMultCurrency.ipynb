{
 "cells": [
  {
   "cell_type": "markdown",
   "metadata": {},
   "source": [
    "# Currency Conversion with Matrix Multiplication \n",
    "\n",
    "In this notebook you will solve a currency problem using matrix multiplication and the python package [NumPy](http://www.numpy.org/). This demonstration is provided to prepare you for using matrix multiplication to solve more complex problems. \n",
    "\n",
    "## Currency Conversion Problem\n",
    "\n",
    "Over the years you have traveled to eight different countries and just happen to have leftover local currency from each of your trips. \n",
    "You are planning to return to one of the eight countries, but you aren't sure which one just yet. \n",
    "You are waiting to find out which will have the cheapest airfare. \n",
    "\n",
    "In preparation, for the trip you *will* want convert *all* your local currency into the currency local of the place you will be traveling to. \n",
    "Therefore, to double check the bank's conversion of your currency, you want to compute the total amount of currency you would expect for each of the eight countries. \n",
    "To compute the conversion you first need to import a matrix that contains the currency conversion rates for each of the eight countries. The data we will be use comes from the [Overview Matrix of Exchange Rates from Bloomberg Cross-Rates _Overall Chart_](https://www.bloomberg.com/markets/currencies/cross-rates) on January, 10 2018. "
   ]
  },
  {
   "cell_type": "markdown",
   "metadata": {},
   "source": [
    "<img src=\"currencyProbImage.png\" height=300 width=750>\n",
    "\n",
    "\n",
    "You can think about this problem as taking a _vector of **inputs**_ (the currencies from the 8 countries) and applying a _matrix of **weights**_ (the conversion rates matrix) to these inputs to produce a _vector of **outputs**_ (total amount of currency for each country) using matrix multiplication with the NumPy package."
   ]
  },
  {
   "cell_type": "markdown",
   "metadata": {},
   "source": [
    "### Coding the Currency Conversion Problem \n",
    "First you will need to create the _**inputs** vector_ that holds the currency you have from the eight countries into a numpy vector. To begin, first import the NumPy package and then use the package to create a vector from a list. Next we convert the vector into a pandas dataframe so that it will print out nicely below with column labels to indicate the country the currency amount is associated to."
   ]
  },
  {
   "cell_type": "code",
   "execution_count": 2,
   "metadata": {},
   "outputs": [
    {
     "name": "stdout",
     "output_type": "stream",
     "text": [
      "Inputs Vector:\n"
     ]
    },
    {
     "data": {
      "text/html": [
       "<div>\n",
       "<style scoped>\n",
       "    .dataframe tbody tr th:only-of-type {\n",
       "        vertical-align: middle;\n",
       "    }\n",
       "\n",
       "    .dataframe tbody tr th {\n",
       "        vertical-align: top;\n",
       "    }\n",
       "\n",
       "    .dataframe thead th {\n",
       "        text-align: right;\n",
       "    }\n",
       "</style>\n",
       "<table border=\"1\" class=\"dataframe\">\n",
       "  <thead>\n",
       "    <tr style=\"text-align: right;\">\n",
       "      <th></th>\n",
       "      <th>USD</th>\n",
       "      <th>EUR</th>\n",
       "      <th>JPY</th>\n",
       "      <th>GBP</th>\n",
       "      <th>CHF</th>\n",
       "      <th>CAD</th>\n",
       "      <th>AUD</th>\n",
       "      <th>HKD</th>\n",
       "    </tr>\n",
       "  </thead>\n",
       "  <tbody>\n",
       "    <tr>\n",
       "      <th>Amounts</th>\n",
       "      <td>70</td>\n",
       "      <td>100</td>\n",
       "      <td>20</td>\n",
       "      <td>80</td>\n",
       "      <td>40</td>\n",
       "      <td>70</td>\n",
       "      <td>60</td>\n",
       "      <td>100</td>\n",
       "    </tr>\n",
       "  </tbody>\n",
       "</table>\n",
       "</div>"
      ],
      "text/plain": [
       "         USD  EUR  JPY  GBP  CHF  CAD  AUD  HKD\n",
       "Amounts   70  100   20   80   40   70   60  100"
      ]
     },
     "execution_count": 2,
     "metadata": {},
     "output_type": "execute_result"
    }
   ],
   "source": [
    "import numpy as np\n",
    "import pandas as pd\n",
    "\n",
    "# Creates numpy vector from a list to represent money (inputs) vector.\n",
    "money = np.asarray([70, 100, 20, 80, 40, 70, 60, 100])\n",
    "\n",
    "# Creates pandas dataframe with column labels(currency_label) from the numpy vector for printing.\n",
    "currency_label = [\"USD\", \"EUR\", \"JPY\", \"GBP\", \"CHF\", \"CAD\", \"AUD\", \"HKD\"]\n",
    "money_df = pd.DataFrame(data=money, index=currency_label, columns=[\"Amounts\"])\n",
    "print(\"Inputs Vector:\")\n",
    "money_df.T\n"
   ]
  },
  {
   "cell_type": "markdown",
   "metadata": {},
   "source": [
    "Next we need to create the _**weights** matrix_ by importing the currency conversion rates matrix. We will use python package [Pandas](https://pandas.pydata.org/) to quickly read in the matrix and approriately assign row and colunm labels. Additionally, we define a variable **_path_** to define the location of the currency conversion matrix. The code below imports this weights matrix, converts the dataframe into a numpy matrix, and displays its content to help you determine how to solve the problem using matrix multiplication."
   ]
  },
  {
   "cell_type": "code",
   "execution_count": 3,
   "metadata": {},
   "outputs": [
    {
     "name": "stdout",
     "output_type": "stream",
     "text": [
      "Weights Matrix:\n"
     ]
    },
    {
     "data": {
      "text/html": [
       "<div>\n",
       "<style scoped>\n",
       "    .dataframe tbody tr th:only-of-type {\n",
       "        vertical-align: middle;\n",
       "    }\n",
       "\n",
       "    .dataframe tbody tr th {\n",
       "        vertical-align: top;\n",
       "    }\n",
       "\n",
       "    .dataframe thead th {\n",
       "        text-align: right;\n",
       "    }\n",
       "</style>\n",
       "<table border=\"1\" class=\"dataframe\">\n",
       "  <thead>\n",
       "    <tr style=\"text-align: right;\">\n",
       "      <th></th>\n",
       "      <th>USD</th>\n",
       "      <th>EUR</th>\n",
       "      <th>JPY</th>\n",
       "      <th>GBP</th>\n",
       "      <th>CHF</th>\n",
       "      <th>CAD</th>\n",
       "      <th>AUD</th>\n",
       "      <th>HKD</th>\n",
       "    </tr>\n",
       "  </thead>\n",
       "  <tbody>\n",
       "    <tr>\n",
       "      <th>USD-To</th>\n",
       "      <td>1.0000</td>\n",
       "      <td>0.8364</td>\n",
       "      <td>111.3700</td>\n",
       "      <td>0.7404</td>\n",
       "      <td>0.9781</td>\n",
       "      <td>1.2548</td>\n",
       "      <td>1.2760</td>\n",
       "      <td>7.8218</td>\n",
       "    </tr>\n",
       "    <tr>\n",
       "      <th>EUR-To</th>\n",
       "      <td>1.1956</td>\n",
       "      <td>1.0000</td>\n",
       "      <td>133.1540</td>\n",
       "      <td>0.8852</td>\n",
       "      <td>1.1694</td>\n",
       "      <td>1.5002</td>\n",
       "      <td>1.5256</td>\n",
       "      <td>9.3517</td>\n",
       "    </tr>\n",
       "    <tr>\n",
       "      <th>JPY-To</th>\n",
       "      <td>0.0090</td>\n",
       "      <td>0.0075</td>\n",
       "      <td>1.0000</td>\n",
       "      <td>0.0066</td>\n",
       "      <td>0.0088</td>\n",
       "      <td>0.0113</td>\n",
       "      <td>0.0115</td>\n",
       "      <td>0.0702</td>\n",
       "    </tr>\n",
       "    <tr>\n",
       "      <th>GBP-To</th>\n",
       "      <td>1.3507</td>\n",
       "      <td>1.1297</td>\n",
       "      <td>150.4275</td>\n",
       "      <td>1.0000</td>\n",
       "      <td>1.3211</td>\n",
       "      <td>1.6949</td>\n",
       "      <td>1.7235</td>\n",
       "      <td>10.5649</td>\n",
       "    </tr>\n",
       "    <tr>\n",
       "      <th>CHF-To</th>\n",
       "      <td>1.0224</td>\n",
       "      <td>0.8551</td>\n",
       "      <td>113.8636</td>\n",
       "      <td>0.7569</td>\n",
       "      <td>1.0000</td>\n",
       "      <td>1.2829</td>\n",
       "      <td>1.3046</td>\n",
       "      <td>7.9969</td>\n",
       "    </tr>\n",
       "    <tr>\n",
       "      <th>CAD-To</th>\n",
       "      <td>0.7969</td>\n",
       "      <td>0.6666</td>\n",
       "      <td>88.7552</td>\n",
       "      <td>0.5900</td>\n",
       "      <td>0.7795</td>\n",
       "      <td>1.0000</td>\n",
       "      <td>1.0169</td>\n",
       "      <td>6.2335</td>\n",
       "    </tr>\n",
       "    <tr>\n",
       "      <th>AUD-To</th>\n",
       "      <td>0.7837</td>\n",
       "      <td>0.6555</td>\n",
       "      <td>87.2807</td>\n",
       "      <td>0.5802</td>\n",
       "      <td>0.7665</td>\n",
       "      <td>0.9834</td>\n",
       "      <td>1.0000</td>\n",
       "      <td>6.1299</td>\n",
       "    </tr>\n",
       "    <tr>\n",
       "      <th>HKD-To</th>\n",
       "      <td>0.1278</td>\n",
       "      <td>0.1069</td>\n",
       "      <td>14.2384</td>\n",
       "      <td>0.0947</td>\n",
       "      <td>0.1250</td>\n",
       "      <td>0.1604</td>\n",
       "      <td>0.1631</td>\n",
       "      <td>1.0000</td>\n",
       "    </tr>\n",
       "  </tbody>\n",
       "</table>\n",
       "</div>"
      ],
      "text/plain": [
       "           USD     EUR       JPY     GBP     CHF     CAD     AUD      HKD\n",
       "USD-To  1.0000  0.8364  111.3700  0.7404  0.9781  1.2548  1.2760   7.8218\n",
       "EUR-To  1.1956  1.0000  133.1540  0.8852  1.1694  1.5002  1.5256   9.3517\n",
       "JPY-To  0.0090  0.0075    1.0000  0.0066  0.0088  0.0113  0.0115   0.0702\n",
       "GBP-To  1.3507  1.1297  150.4275  1.0000  1.3211  1.6949  1.7235  10.5649\n",
       "CHF-To  1.0224  0.8551  113.8636  0.7569  1.0000  1.2829  1.3046   7.9969\n",
       "CAD-To  0.7969  0.6666   88.7552  0.5900  0.7795  1.0000  1.0169   6.2335\n",
       "AUD-To  0.7837  0.6555   87.2807  0.5802  0.7665  0.9834  1.0000   6.1299\n",
       "HKD-To  0.1278  0.1069   14.2384  0.0947  0.1250  0.1604  0.1631   1.0000"
      ]
     },
     "execution_count": 3,
     "metadata": {},
     "output_type": "execute_result"
    }
   ],
   "source": [
    "# Sets path variable to the 'path' of the CSV file that contains the conversion rates(weights) matrix.\n",
    "path = %pwd\n",
    "\n",
    "# Imports conversion rates(weights) matrix as a pandas dataframe.\n",
    "conversion_rates_df = pd.read_csv(path+\"/currencyConversionMatrix.csv\",header=0,index_col=0)\n",
    "\n",
    "# Creates numpy matrix from a pandas dataframe to create the conversion rates(weights) matrix.\n",
    "conversion_rates = conversion_rates_df.values\n",
    "\n",
    "# Prints conversion rates matrix.\n",
    "print(\"Weights Matrix:\")\n",
    "conversion_rates_df\n"
   ]
  },
  {
   "cell_type": "markdown",
   "metadata": {},
   "source": [
    "The _**weights** matrix_ above provides the conversion rates between each of the eight countries. For example, in row 1, column 1 the value **1.0000** represents the conversion rate from US dollars to US dollars. In row 2, column 1 the value **1.1956** represents that 1 Euro is worth **1.1956** US dollars.  In row 1, column 2 the value **0.8364** represents that 1 US dollar is only worth **0.8364** Euro."
   ]
  },
  {
   "cell_type": "markdown",
   "metadata": {},
   "source": [
    "The _**outputs** vector_ is computed below using matrix multiplication. The numpy package provides the [function _**matmul**_](https://docs.scipy.org/doc/numpy-1.13.0/reference/generated/numpy.matmul.html) for multiplying two matrices (or a vector and a matrix). Below you will find the equation for matrix multiplication as it applies to AI, where the _**inputs** vector_($x_{1}...x_{n}$) multiplied by the _**weights** matrix_($w_{11}...w_{nm}$) to compute the _**outputs** vector_($y_{1}...y_{m}$). \n",
    "\n",
    "$\\hspace{4cm} \\begin{bmatrix} x_{1}&x_{2}&...&x_{n}\\end{bmatrix} \\begin{bmatrix} w_{11}&w_{12}&...&w_{1m}\\\\ w_{21}&w_{22}&...&w_{2m}\\\\ ...&...&...&... \\\\ w_{n1}&w_{n2}&...&w_{nm}\\end{bmatrix} = \\begin{bmatrix} y_{1}&y_{2}&...&y_{m}\\end{bmatrix}$ \n",
    "\n",
    "The example matrix multiplication below, has $n$ as 4 in **inputs** and **weights** and $m$ as 3 in **weights** and **outputs**.\n",
    "\n",
    "$\\hspace{4cm} \\begin{bmatrix} 10 & 2 & 1 & 5\\end{bmatrix} \\begin{bmatrix} 1 & 20 & 7\\\\ 3 & 15 & 6 \\\\ 2 & 5 & 12 \\\\ 4 & 25 & 9 \\end{bmatrix} = \\begin{bmatrix} 38 & 360 & 139 \\end{bmatrix}$ \n",
    "\n",
    "As seen with the example above, matrix multiplication resulting matrix(_**outputs** vector_) will have same row dimension as the first matrix(_**inputs** vector_) and the same column dimension as the second matrix(_**weights** matrix_). With the currency example the number of columns in the inputs and weights matrices are the same, but this won't always be the case in AI."
   ]
  },
  {
   "cell_type": "markdown",
   "metadata": {},
   "source": [
    "## TODO: Matrix Multiplication\n",
    "Replace the **None** below with code that uses the [function _**matmul**_](https://docs.scipy.org/doc/numpy-1.13.0/reference/generated/numpy.matmul.html) for multiplying **money** and **conversion_rates** to compute the vector **money_totals**. Recall that we used the alias _**np**_ when we imported the Numpy package above, so be certain to use the _**np**_ alias when calling the _**matmul**_ function below. Additionally, be certain to select _'Cell'_ and _'Run All'_ to check the code you insert below. "
   ]
  },
  {
   "cell_type": "code",
   "execution_count": 4,
   "metadata": {},
   "outputs": [
    {
     "name": "stdout",
     "output_type": "stream",
     "text": [
      "Outputs Vector:\n"
     ]
    },
    {
     "data": {
      "text/html": [
       "<div>\n",
       "<style scoped>\n",
       "    .dataframe tbody tr th:only-of-type {\n",
       "        vertical-align: middle;\n",
       "    }\n",
       "\n",
       "    .dataframe tbody tr th {\n",
       "        vertical-align: top;\n",
       "    }\n",
       "\n",
       "    .dataframe thead th {\n",
       "        text-align: right;\n",
       "    }\n",
       "</style>\n",
       "<table border=\"1\" class=\"dataframe\">\n",
       "  <thead>\n",
       "    <tr style=\"text-align: right;\">\n",
       "      <th></th>\n",
       "      <th>USD</th>\n",
       "      <th>EUR</th>\n",
       "      <th>JPY</th>\n",
       "      <th>GBP</th>\n",
       "      <th>CHF</th>\n",
       "      <th>CAD</th>\n",
       "      <th>AUD</th>\n",
       "      <th>HKD</th>\n",
       "    </tr>\n",
       "  </thead>\n",
       "  <tbody>\n",
       "    <tr>\n",
       "      <th>Money Totals</th>\n",
       "      <td>454.277</td>\n",
       "      <td>379.96</td>\n",
       "      <td>50593.59</td>\n",
       "      <td>336.338</td>\n",
       "      <td>444.326</td>\n",
       "      <td>570.034</td>\n",
       "      <td>579.667</td>\n",
       "      <td>3553.307</td>\n",
       "    </tr>\n",
       "  </tbody>\n",
       "</table>\n",
       "</div>"
      ],
      "text/plain": [
       "                  USD     EUR       JPY      GBP      CHF      CAD      AUD  \\\n",
       "Money Totals  454.277  379.96  50593.59  336.338  444.326  570.034  579.667   \n",
       "\n",
       "                   HKD  \n",
       "Money Totals  3553.307  "
      ]
     },
     "execution_count": 4,
     "metadata": {},
     "output_type": "execute_result"
    }
   ],
   "source": [
    "# TODO 1.: Calculates the money totals(outputs) vector using matrix multiplication in numpy.\n",
    "money_totals = np.matmul(money, conversion_rates)\n",
    "\n",
    "\n",
    "# Converts the resulting money totals vector into a dataframe for printing.\n",
    "money_totals_df = pd.DataFrame(data = money_totals, index = currency_label, columns = [\"Money Totals\"])\n",
    "print(\"Outputs Vector:\")\n",
    "money_totals_df.T\n"
   ]
  },
  {
   "cell_type": "markdown",
   "metadata": {},
   "source": [
    "### Solution for Currrency Conversion with Matrix Multiplication \n",
    "Your output from above should match the **Money Totals** displayed below. If you need any help or want to check your answer, feel free to check out the solution notebook by clicking [here](matrixMultCurrencySolution.ipynb). The results can be interperted as converting all the currency to US dollars(**USD**) would provide **454.28** US dollars, converting all the currency to Euros(**EUR**) would provide **379.96** Euros, and etc.\n",
    "\n",
    "<img src=\"money_totals.png\" height=225 width=563>\n",
    "\n",
    "### Solution Video for Currrency Conversion with Matrix Multiplication   \n",
    "The solution video can be found in the **Linear Mapping Lab Solution** section. You may want to open another browser window to allow you to easily toggle between the Vector's Lab Jupyter Notebook and the solution videos for this lab.    "
   ]
  }
 ],
 "metadata": {
  "kernelspec": {
   "display_name": "Python 3",
   "language": "python",
   "name": "python3"
  },
  "language_info": {
   "codemirror_mode": {
    "name": "ipython",
    "version": 3
   },
   "file_extension": ".py",
   "mimetype": "text/x-python",
   "name": "python",
   "nbconvert_exporter": "python",
   "pygments_lexer": "ipython3",
   "version": "3.6.3"
  }
 },
 "nbformat": 4,
 "nbformat_minor": 2
}
